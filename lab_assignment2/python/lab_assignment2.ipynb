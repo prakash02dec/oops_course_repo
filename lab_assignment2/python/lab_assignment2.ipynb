{
  "nbformat": 4,
  "nbformat_minor": 0,
  "metadata": {
    "colab": {
      "name": "lab_assignment2.ipynb",
      "provenance": []
    },
    "kernelspec": {
      "name": "python3",
      "display_name": "Python 3"
    },
    "language_info": {
      "name": "python"
    }
  },
  "cells": [
    {
      "cell_type": "code",
      "metadata": {
        "colab": {
          "base_uri": "https://localhost:8080/"
        },
        "id": "XU8MKBQd--Z3",
        "outputId": "00bba6cd-c3c5-413b-fbd5-2865fa11f5c7"
      },
      "source": [
        "\n",
        "\n",
        "#question 1:\n",
        "import math\n",
        "class Circle:\n",
        "    def __init__(self, radius):\n",
        "        self.radius = radius\n",
        "\n",
        "    def perimeter(self):\n",
        "        return (2 * math.pi * self.radius)\n",
        "\n",
        "    def area(self):\n",
        "        return (math.pi * (self.radius ** 2))\n",
        "\n",
        "circle = Circle(10)\n",
        "print(circle.perimeter())\n",
        "print(circle.area())\n",
        "\n"
      ],
      "execution_count": 18,
      "outputs": [
        {
          "output_type": "stream",
          "name": "stdout",
          "text": [
            "62.83185307179586\n",
            "314.1592653589793\n"
          ]
        }
      ]
    },
    {
      "cell_type": "code",
      "metadata": {
        "colab": {
          "base_uri": "https://localhost:8080/"
        },
        "id": "ofJyP4fE_2OY",
        "outputId": "1a184f05-b295-4c69-85ea-6adc9d9565fc"
      },
      "source": [
        "#question 2:\n",
        "class Faculty:\n",
        "  def setData(self):\n",
        "        self.name = input(\"Enter the name of the Employee : \") \n",
        "        self.emp_ID = input(\"Enter the employee ID : \")\n",
        "        self.branch = input(\"Enter the branch : \")\n",
        "        self.salary = int(input(\"Enter the salary : \"))\n",
        "\n",
        "  def getData(self):\n",
        "        print(f\"Name : {self.name} \\nEmployee ID : {self.emp_ID} \\nBranch : {self.branch} \\nSalary : {self.salary}\\n\")\n",
        "        return self.name, self.emp_ID, self.branch, self.salary\n",
        "F_list = []\n",
        "for i in range(1, 6):\n",
        "    temp = Faculty()\n",
        "    print(f\"\\nEnter the data for {i}th employee : \")\n",
        "    temp.setData()\n",
        "    F_list.append(temp)\n",
        "    print('\\n')\n",
        "\n",
        "for i in range(0, 5):\n",
        "    print(f\"\\nData of {i+1}th employee : \")\n",
        "    F_list[i].getData()"
      ],
      "execution_count": 7,
      "outputs": [
        {
          "output_type": "stream",
          "name": "stdout",
          "text": [
            "\n",
            "Enter the data for 1th employee : \n",
            "Enter the name of the Employee : spiderman\n",
            "Enter the employee ID : csa01\n",
            "Enter the branch : cse\n",
            "Enter the salary : 200000\n",
            "\n",
            "\n",
            "\n",
            "Enter the data for 2th employee : \n",
            "Enter the name of the Employee : hulk\n",
            "Enter the employee ID : ds02\n",
            "Enter the branch : dsai\n",
            "Enter the salary : 300000\n",
            "\n",
            "\n",
            "\n",
            "Enter the data for 3th employee : \n",
            "Enter the name of the Employee : ironman\n",
            "Enter the employee ID : cs101\n",
            "Enter the branch : cse\n",
            "Enter the salary : 100000000\n",
            "\n",
            "\n",
            "\n",
            "Enter the data for 4th employee : \n",
            "Enter the name of the Employee : doctor strange\n",
            "Enter the employee ID : ma\n",
            "Enter the branch : caci\n",
            "Enter the salary : 2000002\n",
            "\n",
            "\n",
            "\n",
            "Enter the data for 5th employee : \n",
            "Enter the name of the Employee : thor\n",
            "Enter the employee ID : sdds\n",
            "Enter the branch : bfsc\n",
            "Enter the salary : 2000000\n",
            "\n",
            "\n",
            "\n",
            "Data of 1th employee : \n",
            "Name : spiderman \n",
            "Employee ID : csa01 \n",
            "Branch : cse \n",
            "Salary : 200000\n",
            "\n",
            "\n",
            "Data of 2th employee : \n",
            "Name : hulk \n",
            "Employee ID : ds02 \n",
            "Branch : dsai \n",
            "Salary : 300000\n",
            "\n",
            "\n",
            "Data of 3th employee : \n",
            "Name : ironman \n",
            "Employee ID : cs101 \n",
            "Branch : cse \n",
            "Salary : 100000000\n",
            "\n",
            "\n",
            "Data of 4th employee : \n",
            "Name : doctor strange \n",
            "Employee ID : ma \n",
            "Branch : caci \n",
            "Salary : 2000002\n",
            "\n",
            "\n",
            "Data of 5th employee : \n",
            "Name : thor \n",
            "Employee ID : sdds \n",
            "Branch : bfsc \n",
            "Salary : 2000000\n",
            "\n"
          ]
        }
      ]
    },
    {
      "cell_type": "code",
      "metadata": {
        "colab": {
          "base_uri": "https://localhost:8080/"
        },
        "id": "StGdD5-vE5ac",
        "outputId": "7a7ed3c9-d966-4610-efe0-9aad6395c3ad"
      },
      "source": [
        "#question 3:\n",
        "class Account:\n",
        "    def __init__(self, accNo, accHolder, amount):\n",
        "        self.accountNumber = accNo\n",
        "        self.accountHolder = accHolder\n",
        "        self.accountAmount = amount\n",
        "\n",
        "    def deposit(self):\n",
        "        depAmount = int(input(\"Enter the amount to deposit : \"))\n",
        "        self.accountAmount += depAmount\n",
        "        print(f\"Amount deposited : {depAmount} \\nNew Balance : {self.accountAmount}\")\n",
        "\n",
        "    def withdraw(self):\n",
        "        withAmount = int(input(\"Enter the amount to withdraw : \"))\n",
        "        if withAmount > self.accountAmount:\n",
        "            print(\"Cannot withdraw more than savings.\")\n",
        "            return\n",
        "        self.accountAmount -= withAmount\n",
        "        print(f\"Amount withdraw : {withAmount} \\nNew Balance = {self.accountAmount}\")\n",
        "        return \n",
        "\n",
        "    def checkBalance(self):\n",
        "        print(f\"Balance : {self.accountAmount}\")\n",
        "        return self.accountAmount\n",
        "\n",
        "    def getDetails(self):\n",
        "        print(f\"\\nAccount Number : {self.accountNumber} \\nAccount Holder : {self.accountHolder} \\nBalance : {self.accountAmount}\")\n",
        "        return self.accountNumber, self.accountHolder, self.accountAmount\n",
        "\n",
        "prakash = Account(32435432, \"prakash\", 100000)\n",
        "prakash.deposit()\n",
        "print(prakash.withdraw())\n",
        "prakash.checkBalance()\n",
        "print(prakash.getDetails())"
      ],
      "execution_count": 11,
      "outputs": [
        {
          "output_type": "stream",
          "name": "stdout",
          "text": [
            "Enter the amount to deposit : 234320\n",
            "Amount deposited : 234320 \n",
            "New Balance : 334320\n",
            "Enter the amount to withdraw : 232463\n",
            "Amount withdraw : 232463 \n",
            "New Balance = 101857\n",
            "None\n",
            "Balance : 101857\n",
            "\n",
            "Account Number : 32435432 \n",
            "Account Holder : prakash \n",
            "Balance : 101857\n",
            "(32435432, 'prakash', 101857)\n"
          ]
        }
      ]
    },
    {
      "cell_type": "code",
      "metadata": {
        "colab": {
          "base_uri": "https://localhost:8080/"
        },
        "id": "yxWs2M7cHb8H",
        "outputId": "7fb5f863-61b6-45d9-c9d1-546480c007e4"
      },
      "source": [
        "#question 4:\n",
        "class DETAILS:\n",
        "\n",
        "    def setData(self):\n",
        "        self.name = input(\"Enter the student name : \")\n",
        "        self.ID = input(\"Enter the USN 9 : \")\n",
        "        self.marks = []\n",
        "        for i in range(1, 4):\n",
        "            marks = input(f\"Enter the marks for subject {i} : \")\n",
        "            self.marks.append(marks)\n",
        "\n",
        "    def getData(self):\n",
        "        print(f\"Name : {self.name} \\nUSN : {self.ID} \\nMarks : \\nSubject 1 : {self.marks[0]} \\nSubject 2 : {self.marks[1]} \\nSubject 3 : {self.marks[2]}\")\n",
        "        return self.name, self.ID, self.marks\n",
        "\n",
        "prakash = DETAILS()\n",
        "prakash.setData()\n",
        "prakash.getData()"
      ],
      "execution_count": 14,
      "outputs": [
        {
          "output_type": "stream",
          "name": "stdout",
          "text": [
            "Enter the student name : prakash\n",
            "Enter the USN  : 20bcs099\n",
            "Enter the marks for subject 1 : 98\n",
            "Enter the marks for subject 2 : 4\n",
            "Enter the marks for subject 3 : 94\n",
            "Name : prakash \n",
            "USN : 20bcs099 \n",
            "Marks : \n",
            "Subject 1 : 98 \n",
            "Subject 2 : 4 \n",
            "Subject 3 : 94\n"
          ]
        },
        {
          "output_type": "execute_result",
          "data": {
            "text/plain": [
              "('prakash', '20bcs099', ['98', '4', '94'])"
            ]
          },
          "metadata": {},
          "execution_count": 14
        }
      ]
    },
    {
      "cell_type": "code",
      "metadata": {
        "colab": {
          "base_uri": "https://localhost:8080/"
        },
        "id": "PTwP19kJHsg0",
        "outputId": "207faaf9-c649-49c8-b8cb-f6e8c9c606b7"
      },
      "source": [
        "#question 5:\n",
        "class Patient:\n",
        "    def setData(self):\n",
        "        self.name = input(\"Enter the patient name : \")\n",
        "        self.dateOfAdmission = input(\"Enter the date of admission : \")\n",
        "        self.symptoms = input(\"Enter all the symptoms  : \").split(\" \")\n",
        "        self.oxy_Level = int(input(\"Enter the oxygen level  : \"))\n",
        "        self.dateOfDischarge = input(\"Enter the date of discharge : \")\n",
        "\n",
        "    def getData(self):\n",
        "        print(f\"\\nName : {self.name} \\nDate of Admission : {self.dateOfAdmission} \\nSymptoms : {self.symptoms} \\nOxygen Level : {self.oxy_Level} \\nDate of Discharge : {self.dateOfDischarge}\\n\")\n",
        "        return self.name, self.dateOfAdmission, self.symptoms, self.oxy_Level, self.dateOfDischarge\n",
        "\n",
        "    def checkSeverity(self):\n",
        "        if self.oxy_Level < 90:\n",
        "            print(\"Patient is in serious condition \")\n",
        "        else:\n",
        "            print(\"Patient is good.\")\n",
        "\n",
        "\n",
        "class Hospital:    \n",
        "    def __init__(self):\n",
        "        self.listOfPatients = []\n",
        "        self.oxy_Support = []\n",
        "\n",
        "    def addPatient(self):\n",
        "        temp = Patient()\n",
        "        temp.setData()\n",
        "        if temp.oxy_Level < 90:\n",
        "            self.oxy_Support.append(1)\n",
        "        else:\n",
        "            self.oxy_Support.append(0)\n",
        "        self.listOfPatients.append(temp)\n",
        "\n",
        "    def checkSeverity(self):\n",
        "        name = input(\"Enter the name of the patient : \")\n",
        "        for i in range(0, len(self.listOfPatients)):\n",
        "            if name == self.listOfPatients[i].name:\n",
        "                self.listOfPatients[i].checkSeverity()\n",
        "                return 1\n",
        "        print(\"Patient not found\")\n",
        "\n",
        "\n",
        "    def getOxygenSupport(self):\n",
        "        return self.oxy_Support.count(1)\n",
        "\n",
        "    def generalWard(self):\n",
        "        return self.oxy_Support.count(0)\n",
        "\n",
        "    def totalPatients(self):\n",
        "        return len(self.listOfPatients)\n",
        "\n",
        "\n",
        "H1 = Hospital()\n",
        "\n",
        "for i in range(0, 2):\n",
        "    H1.addPatient()\n",
        "    H1.listOfPatients[i].getData()\n",
        "    H1.listOfPatients[i].checkSeverity()\n",
        "\n",
        "print(H1.getOxygenSupport())\n",
        "print(H1.generalWard())\n",
        "print(H1.totalPatients())\n",
        "H1.checkSeverity()"
      ],
      "execution_count": 35,
      "outputs": [
        {
          "output_type": "stream",
          "name": "stdout",
          "text": [
            "Enter the patient name : prakash\n",
            "Enter the date of admission : 20/3/2021\n",
            "Enter all the symptoms  : fever cough\n",
            "Enter the oxygen level  : 98\n",
            "Enter the date of discharge : 20/4/2021\n",
            "\n",
            "Name : prakash \n",
            "Date of Admission : 20/3/2021 \n",
            "Symptoms : ['fever', 'cough'] \n",
            "Oxygen Level : 98 \n",
            "Date of Discharge : 20/4/2021\n",
            "\n",
            "Patient is good.\n",
            "Enter the patient name : maxie\n",
            "Enter the date of admission : 2/4/2021\n",
            "Enter all the symptoms  : fever chest-pain\n",
            "Enter the oxygen level  : 75\n",
            "Enter the date of discharge : 5/5/2021\n",
            "\n",
            "Name : maxie \n",
            "Date of Admission : 2/4/2021 \n",
            "Symptoms : ['fever', 'chest-pain'] \n",
            "Oxygen Level : 75 \n",
            "Date of Discharge : 5/5/2021\n",
            "\n",
            "Patient is in serious condition \n",
            "1\n",
            "1\n",
            "2\n",
            "Enter the name of the patient : maxie\n",
            "Patient is in serious condition \n"
          ]
        },
        {
          "output_type": "execute_result",
          "data": {
            "text/plain": [
              "1"
            ]
          },
          "metadata": {},
          "execution_count": 35
        }
      ]
    },
    {
      "cell_type": "code",
      "metadata": {
        "colab": {
          "base_uri": "https://localhost:8080/"
        },
        "id": "-7p9OmQV756C",
        "outputId": "330af95a-883c-4845-f3e2-e2250f3dbaa2"
      },
      "source": [
        "#question 6:\n",
        "class Time:\n",
        "    def __init__(self):\n",
        "        self.hours = 0\n",
        "        self.minutes = 0\n",
        "        self.seconds = 0\n",
        "\n",
        "    def setToVal(self, hours, minutes, seconds):\n",
        "        minutes += seconds//60\n",
        "        seconds %= 60\n",
        "        hours += minutes//60\n",
        "        minutes %= 60\n",
        "        self.hours = hours\n",
        "        self.minutes = minutes\n",
        "        self.seconds = seconds\n",
        "\n",
        "    def displayTime(self):\n",
        "        print(f\"Time : {self.hours}::{self.minutes}::{self.seconds}\")\n",
        "\n",
        "\n",
        "TIME = Time()\n",
        "TIME.setToVal(7, 120, 480)\n",
        "TIME.displayTime()"
      ],
      "execution_count": 33,
      "outputs": [
        {
          "output_type": "stream",
          "name": "stdout",
          "text": [
            "Time : 9::8::0\n"
          ]
        }
      ]
    },
    {
      "cell_type": "code",
      "metadata": {
        "colab": {
          "base_uri": "https://localhost:8080/"
        },
        "id": "bEoqaUGTH4-e",
        "outputId": "60bc50ab-df9d-418e-afbf-24bd2f260c7b"
      },
      "source": [
        "\n",
        "\n",
        "#question 7:\n",
        "class Student:\n",
        "    def __init__(self, name, age, rollNo):\n",
        "        self.name = name\n",
        "        self.age = age\n",
        "        self.rollNo = rollNo\n",
        "\n",
        "    @classmethod\n",
        "    def compareStudentsAge(cls, obj1, obj2):\n",
        "        if obj1.age == obj2.age:\n",
        "            print(\"Age of the students are equal.\")\n",
        "        else:\n",
        "            print(\"Age of the students not equal.\")\n",
        "\n",
        "std1 = Student(\"Rahul\", 21, 33)\n",
        "std2 = Student(\"Rohit\", 22, 74)\n",
        "\n",
        "Student.compareStudentsAge(std1, std2)\n",
        "\n"
      ],
      "execution_count": 20,
      "outputs": [
        {
          "output_type": "stream",
          "name": "stdout",
          "text": [
            "Age of the students not equal.\n"
          ]
        }
      ]
    },
    {
      "cell_type": "code",
      "metadata": {
        "colab": {
          "base_uri": "https://localhost:8080/"
        },
        "id": "z_SX4n0LH5Xw",
        "outputId": "7a20709a-b334-4993-d6a0-de9c4a260a49"
      },
      "source": [
        "#question 8:\n",
        "class student:\n",
        "    sem = 3\n",
        "    institute = \"IIIT Dharwad\"\n",
        "    \n",
        "    def setData(self):\n",
        "        self.name = input(\"Enter the student name : \")\n",
        "        self.id = int(input(\"Enter the USN  : \"))\n",
        "\n",
        "    def getinstancedata(self):\n",
        "        print(f\"Name : {self.name} \\nUSN = {self.id}\\nsem : {self.sem} \\nInstitute : {self.institute} \\n\")\n",
        "\n",
        "    def getclassdata(cls):\n",
        "        print(f\"Semester : {cls.sem} \\nInstitute : {cls.institute} \\n\")\n",
        "\n",
        "\n",
        "\n",
        "prakash = student()\n",
        "prakash.setData()\n",
        "prakash.getinstancedata()\n",
        "student.getclassdata(student)"
      ],
      "execution_count": 19,
      "outputs": [
        {
          "output_type": "stream",
          "name": "stdout",
          "text": [
            "Enter the student name : prakash\n",
            "Enter the USN  : 20\n",
            "Name : prakash \n",
            "USN = 20\n",
            "sem : 3 \n",
            "Institute : IIIT Dharwad \n",
            "\n",
            "Semester : 3 \n",
            "Institute : IIIT Dharwad \n",
            "\n"
          ]
        }
      ]
    },
    {
      "cell_type": "code",
      "metadata": {
        "colab": {
          "base_uri": "https://localhost:8080/"
        },
        "id": "PLtGzvjxH5j1",
        "outputId": "a242e33f-514b-41c5-8fe3-7b27af7b8428"
      },
      "source": [
        "#question 9:\n",
        "class student:\n",
        "    def setData(self):\n",
        "        self.Name = input(\"Enter the name : \")\n",
        "        self.ID = str(input(\"Enter the Roll Number : \"))\n",
        "        self.sem = int(input(\"Enter the semester number : \"))\n",
        "        self.nLaptop = int(input(\"Enter the number of laptops : \"))\n",
        "        self.listLaptop = []\n",
        "        for i in range (0, self.nLaptop):\n",
        "            tempObj = self.Laptop()\n",
        "            self.listLaptop.append(tempObj)\n",
        "\n",
        "    class Laptop:\n",
        "        def __init__(self):\n",
        "            self.cpu = input(\"Enter CPU : \")\n",
        "            self.ram = input(\"Enter the RAM : \")\n",
        "            self.hardDisk = input(\"Enter  hard disk : \")\n",
        "            self.display = input(\"Enter the display resolution : \")\n",
        "        \n",
        "        def getData(self):\n",
        "            print(f\"\\nCPU : {self.cpu} \\nRAM : {self.ram} \\nHard Disk : {self.hardDisk} \\nDisplay Resolution : {self.display} \\n\")\n",
        "\n",
        "    def getData(self):\n",
        "        print(f\"\\nName : {self.Name} \\nUSN : {self.ID} \\nSemester : {self.sem} \\nNumber of Laptops : {self.nLaptop}\")\n",
        "        for i in range(0, self.nLaptop):\n",
        "            print(f\"Details of {i+1}th laptop : \")\n",
        "            self.listLaptop[i].getData()\n",
        "\n",
        "prakash = student()\n",
        "prakash.setData()\n",
        "prakash.getData()"
      ],
      "execution_count": 3,
      "outputs": [
        {
          "output_type": "stream",
          "name": "stdout",
          "text": [
            "Enter the name : prakash\n",
            "Enter the Roll Number : 20bcs099\n",
            "Enter the semester number : 3\n",
            "Enter the number of laptops : 2\n",
            "Enter CPU : i7\n",
            "Enter the RAM : 16gb\n",
            "Enter  hard disk : 1tb\n",
            "Enter the display resolution : 1920X1200\n",
            "Enter CPU : i5\n",
            "Enter the RAM : 8gb\n",
            "Enter  hard disk : 500gb\n",
            "Enter the display resolution : 10180X900\n",
            "\n",
            "Name : prakash \n",
            "USN : 20bcs099 \n",
            "Semester : 3 \n",
            "Number of Laptops : 2\n",
            "Details of 1th laptop : \n",
            "\n",
            "CPU : i7 \n",
            "RAM : 16gb \n",
            "Hard Disk : 1tb \n",
            "Display Resolution : 1920X1200 \n",
            "\n",
            "Details of 2th laptop : \n",
            "\n",
            "CPU : i5 \n",
            "RAM : 8gb \n",
            "Hard Disk : 500gb \n",
            "Display Resolution : 10180X900 \n",
            "\n"
          ]
        }
      ]
    }
  ]
}