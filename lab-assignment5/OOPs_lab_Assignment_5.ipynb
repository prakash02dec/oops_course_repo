{
  "nbformat": 4,
  "nbformat_minor": 0,
  "metadata": {
    "colab": {
      "name": "OOPs_lab_Assignment_5.ipynb",
      "provenance": []
    },
    "kernelspec": {
      "name": "python3",
      "display_name": "Python 3"
    },
    "language_info": {
      "name": "python"
    }
  },
  "cells": [
    {
      "cell_type": "markdown",
      "metadata": {
        "id": "HrMdEO5I6F0j"
      },
      "source": [
        "Write a Python programme to create the parent class shape, derive the subclasses circle,\n",
        "square, and rectangle from the class shape, and demonstrate polymorphism in inheritance\n",
        "using a member function area ()."
      ]
    },
    {
      "cell_type": "code",
      "metadata": {
        "colab": {
          "base_uri": "https://localhost:8080/"
        },
        "id": "gIiro6Jd6DnH",
        "outputId": "f29aff51-55b0-4c0f-80b7-93d8889438d4"
      },
      "source": [
        "from math import pi\n",
        "from abc import ABC, abstractmethod\n",
        "\n",
        "class shape(ABC):       #parent class\n",
        "  @abstractmethod\n",
        "  def area():\n",
        "    pass\n",
        "\n",
        "class circle(shape):\n",
        "  RADIUS = 0\n",
        "  def __init__(self, radius = RADIUS):\n",
        "    self.radius = radius\n",
        "\n",
        "  def area(self):\n",
        "    return pi*self.radius**2\n",
        "\n",
        "class square(shape):\n",
        "  LENGTH = 0\n",
        "  def __init__(self, side = LENGTH):\n",
        "    self.length = side\n",
        "\n",
        "  def area(self):\n",
        "    return self.length**2\n",
        "\n",
        "class rectangle(shape):\n",
        "  LENGTH = 0 \n",
        "  BREADTH = 0 \n",
        "  def __init__(self, length = LENGTH, breadth = BREADTH):\n",
        "    self.l = length\n",
        "    self.b = breadth\n",
        "\n",
        "  def area(self):\n",
        "    return self.l*self.b\n",
        "\n",
        "c = circle(7)\n",
        "s = square(5)\n",
        "r = rectangle(5, 6)\n",
        "\n",
        "print(c.area())\n",
        "print(s.area())\n",
        "print(r.area())"
      ],
      "execution_count": 3,
      "outputs": [
        {
          "output_type": "stream",
          "name": "stdout",
          "text": [
            "153.93804002589985\n",
            "25\n",
            "30\n"
          ]
        }
      ]
    },
    {
      "cell_type": "markdown",
      "metadata": {
        "id": "kczsmIPy6IAp"
      },
      "source": [
        "The family has decided to travel by road from Dharwad to Belagavi, and they have\n",
        "chosen to estimate the cost before starting on this journey. Write python code to create\n",
        "the parent class Travel with member functions include the number of passengers, the\n",
        "distance travelled, and the mode of transportation. Derive two subclasses, train and bus,\n",
        "from the parent class, each with a member function that calculates the cost of trip. Also,\n",
        "keep the numbers of passengers as a private member of the parent class and try to access\n",
        "it through the child class to estimate costs.\n",
        "[Note: Assume cost of travelling/person through train = 60 rs, cost of travelling /person\n",
        "through bus= 100 rs].\n"
      ]
    },
    {
      "cell_type": "code",
      "metadata": {
        "colab": {
          "base_uri": "https://localhost:8080/"
        },
        "id": "VkHMSRkL6FOF",
        "outputId": "c84b929e-f594-4366-b1c1-ce9ec212920d"
      },
      "source": [
        "from abc import ABC, abstractmethod\n",
        "\n",
        "class travel():\n",
        "  def __init__(self, no_of_pass, dist, mode):\n",
        "    self.__number = no_of_pass\n",
        "    self.dist = dist\n",
        "    self.mode = mode\n",
        "\n",
        "  def access_num(self):\n",
        "    return self.__number\n",
        "\n",
        "  @abstractmethod\n",
        "  def cal_cost(self):\n",
        "    pass\n",
        "\n",
        "class train(travel):\n",
        "  def __init__(self, no_of_pass, dist, mode):\n",
        "    super().__init__(no_of_pass, dist, mode)\n",
        "\n",
        "  def cal_cost(self):\n",
        "    return 60*self.access_num()\n",
        "\n",
        "\n",
        "class bus(travel):\n",
        "  def __init__(self, no_of_pass, dist, mode):\n",
        "    super().__init__(no_of_pass, dist, mode)\n",
        "\n",
        "  def cal_cost(self):\n",
        "    return 100*self.access_num()\n",
        "\n",
        "a = train(6, 9, \"Tracks\")\n",
        "print(a.cal_cost())\n",
        "\n",
        "b = bus(10, 5, \"Road\")\n",
        "print(b.cal_cost())"
      ],
      "execution_count": 10,
      "outputs": [
        {
          "output_type": "stream",
          "name": "stdout",
          "text": [
            "360\n",
            "1000\n"
          ]
        }
      ]
    },
    {
      "cell_type": "markdown",
      "metadata": {
        "id": "mASL3kky6IPY"
      },
      "source": [
        "3. Assume that there a class Car with model number as its member variable. Write a python\n",
        "program to swap the values of model number in Car objects c1 and c2."
      ]
    },
    {
      "cell_type": "code",
      "metadata": {
        "colab": {
          "base_uri": "https://localhost:8080/"
        },
        "id": "qYFXuGfF6FeS",
        "outputId": "5eff9e9d-46b1-4b44-a0ac-a7ba2a00fea0"
      },
      "source": [
        "class car:\n",
        "  def __init__(self, name , model):\n",
        "    self.model = model\n",
        "    self.name = name\n",
        "\n",
        "  def get_model(self):\n",
        "    return self.model\n",
        "  def display(self):\n",
        "    print(self.name , self.model)\n",
        "\n",
        "c1 = car(\"audi\" ,1232)\n",
        "c2 = car(\"bmw\",1331)\n",
        "\n",
        "c2.model, c1.model = c1.get_model(), c2.get_model()\n",
        "\n",
        "c1.display()\n",
        "c2.display()\n"
      ],
      "execution_count": 7,
      "outputs": [
        {
          "output_type": "stream",
          "name": "stdout",
          "text": [
            "audi 1331\n",
            "bmw 1232\n"
          ]
        }
      ]
    }
  ]
}