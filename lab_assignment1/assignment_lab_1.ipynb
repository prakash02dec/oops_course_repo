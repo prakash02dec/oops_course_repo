{
  "nbformat": 4,
  "nbformat_minor": 0,
  "metadata": {
    "colab": {
      "name": "assignment_lab_1.ipynb",
      "provenance": []
    },
    "kernelspec": {
      "name": "python3",
      "display_name": "Python 3"
    },
    "language_info": {
      "name": "python"
    }
  },
  "cells": [
    {
      "cell_type": "markdown",
      "metadata": {
        "id": "ZegABq5f08RI"
      },
      "source": [
        "An extra day is added to the calendar almost every four years as February 29, and the day is called a leap day. It corrects the calendar for the fact that our planet takes approximately 365.25 days to orbit the sun. A leap year contains a leap day.\n",
        "In the Gregorian calendar, three conditions are used to identify leap years:\n",
        "The year can be evenly divided by 4, is a leap year, unless:\n",
        "The year can be evenly divided by 100, it is NOT a leap year, unless:\n",
        "The year is also evenly divisible by 400. Then it is a leap year.\n",
        "Write function to decide whether it is a leap year. If it is a leap year, return the Boolean True, otherwise return False.\n"
      ]
    },
    {
      "cell_type": "code",
      "metadata": {
        "colab": {
          "base_uri": "https://localhost:8080/"
        },
        "id": "FvHyAwut1JzI",
        "outputId": "dddc06a1-ca05-4375-9cbb-89ed848cf923"
      },
      "source": [
        "def is_leap_year(year):\n",
        "  if year % 400 ==0:\n",
        "    return True\n",
        "  if year % 100 ==0:\n",
        "    return False\n",
        "  else:\n",
        "    if year % 4 == 0:\n",
        "      return True\n",
        "    else:\n",
        "      return False\n",
        "    \n",
        "\n",
        "\n",
        "print(is_leap_year(2020))\n",
        "print(is_leap_year(1986))\n",
        "print(is_leap_year(2008))\n"
      ],
      "execution_count": 10,
      "outputs": [
        {
          "output_type": "stream",
          "name": "stdout",
          "text": [
            "True\n",
            "False\n",
            "True\n"
          ]
        }
      ]
    },
    {
      "cell_type": "markdown",
      "metadata": {
        "id": "x0iatBd24RYP"
      },
      "source": [
        "Given an integer ‘n’, write a python code to perform the following conditional actions:\n",
        "If ‘n’ is odd, print Weird\n",
        "If ‘n’ is even and in the inclusive range of 2 to 5, print Not Weird\n",
        "If ‘n’ is even and in the inclusive range of 6 to 20, print Weird\n",
        "If ‘n’ is even and greater than 20, print Not Weird\n",
        "\n",
        "\n",
        "---\n",
        "\n"
      ]
    },
    {
      "cell_type": "code",
      "metadata": {
        "colab": {
          "base_uri": "https://localhost:8080/"
        },
        "id": "vvWJBlVC4XlS",
        "outputId": "332810c0-69d8-4b95-a2a6-d36c8df83105"
      },
      "source": [
        "def is_weird(n):\n",
        "  if n % 2 == 0:\n",
        "    if 2<= n <= 5:\n",
        "      print(\"not weird\") \n",
        "      return\n",
        "    elif 6<= n <= 20:\n",
        "      print(\"weird\") \n",
        "      return \n",
        "    elif n> 20:\n",
        "      print(\"not weird\") \n",
        "      return \n",
        "  print(\"weird\") \n",
        "  return\n",
        "\n",
        "is_weird(25)\n",
        "is_weird(100)\n",
        "is_weird(10)\n",
        "is_weird(5)\n",
        "is_weird(15)\n",
        "\n",
        "\n",
        "    "
      ],
      "execution_count": 13,
      "outputs": [
        {
          "output_type": "stream",
          "name": "stdout",
          "text": [
            "weird\n",
            "not weird\n",
            "weird\n",
            "weird\n",
            "weird\n"
          ]
        }
      ]
    },
    {
      "cell_type": "markdown",
      "metadata": {
        "id": "gcQf7eIZ6zVt"
      },
      "source": [
        "The following list represents a party with 7 guests, in which ‘Hardik’ showed up first and ‘Rahane’ was the last to arrive:\n",
        " \n",
        "    Arrivals = ['Hardik', 'Rahul', 'Virat', 'Rishabh’, ‘Mahi’ 'Rohit', 'Rahane']\n",
        " \n",
        "A guest is considered 'fashionably late' if they arrived after at least half of the party's guests. However, they must not be the very last guest (that's taking it too far). In the above example, ‘rishabh’, ‘Mahi’ and ‘Rohit’ are the only guests who were fashionably late.\n",
        " \n",
        "Write the function which takes a list of party attendees as well as a person, and tells us whether that person is fashionably late.\n"
      ]
    },
    {
      "cell_type": "code",
      "metadata": {
        "colab": {
          "base_uri": "https://localhost:8080/"
        },
        "id": "38spcxZx6y4Y",
        "outputId": "9766ccc0-7924-4100-d021-31bf2b43cde0"
      },
      "source": [
        "def is_Late(list, person):\n",
        "  if list.index(person)+1 >= ((len(list))/2) and list[-1] != person:\n",
        "    print(f\"{person} is fashionably late.\")\n",
        "  else:\n",
        "    print(f\"{person} is not fashionably late.\")\n",
        "\n",
        "arrivals = ['Hardik', 'Rahul', 'Virat', 'Rishabh', 'Mahi', 'Rohit', 'Rahane']\n",
        "\n",
        "for i in arrivals:\n",
        "  is_Late(arrivals, i)"
      ],
      "execution_count": 20,
      "outputs": [
        {
          "output_type": "stream",
          "name": "stdout",
          "text": [
            "Hardik is not fashionably late.\n",
            "Rahul is not fashionably late.\n",
            "Virat is not fashionably late.\n",
            "Rishabh is fashionably late.\n",
            "Mahi is fashionably late.\n",
            "Rohit is fashionably late.\n",
            "Rahane is not fashionably late.\n"
          ]
        }
      ]
    },
    {
      "cell_type": "markdown",
      "metadata": {
        "id": "Ln8bBwl_-pgc"
      },
      "source": [
        "A researcher has gathered thousands of news articles. But she wants to focus her attention on articles including a specific word. Write a function to help her filter her list of articles. Your function should meet the following criteria:\n",
        "\n",
        "Do not include documents where the keyword string shows up only as a part of a larger word. For example, if she were looking for the keyword “closed”, you would not include the string “enclosed.”\n",
        "She does not want you to distinguish upper case from lower case letters. So the phrase “Closed the case.” would be included when the keyword is “closed”\n",
        "Do not let periods or commas affect what is matched. “It is closed.” would be included when the keyword is “closed”. But you can assume there are no other types of punctuation.\n",
        "Assume, doc_list = [\"The Learn Python Challenge Rohit.\", \"They bought a car\", \"bangalore\"]"
      ]
    },
    {
      "cell_type": "code",
      "metadata": {
        "colab": {
          "base_uri": "https://localhost:8080/"
        },
        "id": "3eTzfb3k-t0D",
        "outputId": "24f4b42d-2dcb-49df-9c14-1789281be1c1"
      },
      "source": [
        "def find_keyword(articles, keyword):\n",
        "  keyword = keyword.lower()\n",
        "  print(f\"List of matching string with the word \\\"{keyword}\\\":\")\n",
        "  for word in articles:\n",
        "    key_word = \" \" + word.lower() + \" \"\n",
        "    if ((\" \"+keyword+\" \") in key_word) or ((\" \"+keyword+\". \") in key_word) or ((\" \"+keyword+\", \") in key_word):\n",
        "      print(word)\n",
        "\n",
        "\n",
        "articles = [\"The Learn Python Challenge Rohit.\", \"Rohit bought a car\", \"bangalore\", ]\n",
        "\n",
        "find_keyword(articles, \"python\")\n",
        "find_keyword(articles, \"bangalore\")\n",
        "find_keyword(articles, \"rohit\")"
      ],
      "execution_count": 24,
      "outputs": [
        {
          "output_type": "stream",
          "name": "stdout",
          "text": [
            "List of matching string with the word \"python\":\n",
            "The Learn Python Challenge Rohit.\n",
            "List of matching string with the word \"bangalore\":\n",
            "bangalore\n",
            "List of matching string with the word \"rohit\":\n",
            "The Learn Python Challenge Rohit.\n",
            "Rohit bought a car\n"
          ]
        }
      ]
    },
    {
      "cell_type": "markdown",
      "metadata": {
        "id": "1lXO0Rog-zMS"
      },
      "source": [
        "An Employee's Basic Pay (BP) is to be read from user. DA is 40% of BP, HRA is 20% of BP, and write a function to calculate the Gross Pay (GP) GP is computed as BP + DA + HRA"
      ]
    },
    {
      "cell_type": "code",
      "metadata": {
        "colab": {
          "base_uri": "https://localhost:8080/"
        },
        "id": "Dojl5eYc-5aD",
        "outputId": "d5c58ac8-b7b3-4eae-b9db-ce9f7302d0c8"
      },
      "source": [
        "def gross_pay(BP):\n",
        "  DA= 0.40 *BP\n",
        "  HRA = 0.20 * BP\n",
        "  return BP+ DA + HRA\n",
        "\n",
        "print(\"gp of 100000 = \",gross_pay(100000) )\n",
        "print(\"gp of 500000 = \",gross_pay(500000) )\n",
        "print(\"gp of 1000000 = \",gross_pay(1000000) )"
      ],
      "execution_count": 26,
      "outputs": [
        {
          "output_type": "stream",
          "name": "stdout",
          "text": [
            "gp of 100000 =  160000.0\n",
            "gp of 500000 =  800000.0\n",
            "gp of 1000000 =  1600000.0\n"
          ]
        }
      ]
    }
  ]
}