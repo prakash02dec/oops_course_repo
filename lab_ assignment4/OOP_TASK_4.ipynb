{
  "nbformat": 4,
  "nbformat_minor": 0,
  "metadata": {
    "colab": {
      "name": "OOP TASK 4.ipynb",
      "provenance": []
    },
    "kernelspec": {
      "name": "python3",
      "display_name": "Python 3"
    },
    "language_info": {
      "name": "python"
    }
  },
  "cells": [
    {
      "cell_type": "markdown",
      "metadata": {
        "id": "axBVcTA6uCzl"
      },
      "source": [
        "1. Write a python code to create a class node with data and address of next node as\n",
        "parameters. Derive stack class from node class with top position or head node position as a\n",
        "parameter and also perform the following operations.\n",
        "a. Check stack is empty\n",
        "b. Add data to stack\n",
        "c. Delete data from the stack.\n",
        "d. Display the elements of the stack.\n",
        "e. Deallocate the memory assigned to each node using destructors."
      ]
    },
    {
      "cell_type": "code",
      "metadata": {
        "id": "n5yvNzJMuGhD",
        "colab": {
          "base_uri": "https://localhost:8080/"
        },
        "outputId": "7df969a1-04bb-453e-de7c-8561d7ce02ca"
      },
      "source": [
        "class Node:\n",
        "    def __init__(self, val, next):\n",
        "        self.value = val\n",
        "        self.next = next\n",
        "\n",
        "    def __del__(self):\n",
        "        print( self.value, \"deleted\")\n",
        "\n",
        "class Stack:\n",
        "    def __init__(self):\n",
        "        self.head = None\n",
        "        self.tail = self.head\n",
        "\n",
        "    def is_empty(self):\n",
        "        return self.head == None and self.tail == None\n",
        "\n",
        "    def push(self, val):\n",
        "        new_node = Node(val, None)\n",
        "        if self.is_empty():\n",
        "            self.head = new_node\n",
        "            self.tail = self.head\n",
        "        else:\n",
        "            self.tail.next = new_node\n",
        "            self.tail = self.tail.next\n",
        "\n",
        "    def pop(self):\n",
        "        temp = self.head\n",
        "        while True:\n",
        "            if temp.next != self.tail:\n",
        "                temp = temp.next\n",
        "            else:\n",
        "                break\n",
        "        val = temp.next.value\n",
        "        del temp.next\n",
        "        temp.next = None\n",
        "        self.tail = temp\n",
        "        return val\n",
        "\n",
        "\n",
        "    def display(self):\n",
        "        temp = self.head\n",
        "        if not self.is_empty():\n",
        "            while temp!=None:\n",
        "                print(temp.value, end=\" \")\n",
        "                temp = temp.next\n",
        "        else:\n",
        "            print(\"Empty stack\")\n",
        "\n",
        "s = Stack()\n",
        "print(s.is_empty())\n",
        "s.push(16)\n",
        "print(s.is_empty())\n",
        "s.push(22)\n",
        "s.push(23)\n",
        "s.push(43)\n",
        "s.push(95)\n",
        "print(\"popped :\", s.pop())\n",
        "s.display()"
      ],
      "execution_count": 12,
      "outputs": [
        {
          "output_type": "stream",
          "name": "stdout",
          "text": [
            "16 deleted\n",
            "22 deleted\n",
            "23 deleted\n",
            "43 deleted\n",
            "True\n",
            "False\n",
            "95 deleted\n",
            "popping: 95\n",
            "16 22 23 43 "
          ]
        }
      ]
    },
    {
      "cell_type": "markdown",
      "metadata": {
        "id": "lPooQ7rhuHcP"
      },
      "source": [
        "Write a python code to calculate the area of a rectangle using parametrized and default\n",
        "constructors."
      ]
    },
    {
      "cell_type": "code",
      "metadata": {
        "id": "1vXywHUuuMHq",
        "colab": {
          "base_uri": "https://localhost:8080/"
        },
        "outputId": "1d217b80-5c29-43de-cc6f-a067cde5b034"
      },
      "source": [
        "\n",
        "class Rectangle:\n",
        "  def __init__(self, length = 1, breadth = 1):\n",
        "    self.length = length\n",
        "    self.breadth = breadth\n",
        "\n",
        "  def display_Area(self):\n",
        "    print(\"Area:\", self.length*self.breadth)\n",
        "    return self.length*self.breadth\n",
        "\n",
        "A = Rectangle(5, 8)\n",
        "A.display_Area()\n",
        "A = Rectangle(5)\n",
        "A.display_Area()\n",
        "A = Rectangle()\n",
        "A.display_Area()"
      ],
      "execution_count": 13,
      "outputs": [
        {
          "output_type": "stream",
          "name": "stdout",
          "text": [
            "Area: 40\n",
            "Area: 5\n",
            "Area: 1\n"
          ]
        },
        {
          "output_type": "execute_result",
          "data": {
            "text/plain": [
              "1"
            ]
          },
          "metadata": {},
          "execution_count": 13
        }
      ]
    },
    {
      "cell_type": "markdown",
      "metadata": {
        "id": "tFzqYd5VuN3i"
      },
      "source": [
        "Write a python program to implement queue operations using constructors and destructors."
      ]
    },
    {
      "cell_type": "code",
      "metadata": {
        "id": "VNtdQ9iluORH",
        "colab": {
          "base_uri": "https://localhost:8080/"
        },
        "outputId": "2f944e45-77ea-4137-cac2-03616dda29ff"
      },
      "source": [
        "class Node:\n",
        "    def __init__(self, val, next):\n",
        "        self.value = val\n",
        "        self.next = next\n",
        "\n",
        "    def __del__(self):\n",
        "        print( self.value, \"deleted\")\n",
        "\n",
        "class Queue:\n",
        "    def __init__(self):\n",
        "        self.head = None\n",
        "        self.tail = self.head\n",
        "\n",
        "    def is_empty(self):\n",
        "        return self.head == None and self.tail == None\n",
        "\n",
        "    def enqueue(self, val):\n",
        "        new_node = Node(val, None)\n",
        "        if self.is_empty():\n",
        "            self.head = new_node\n",
        "            self.tail = self.head\n",
        "        else:\n",
        "            new_node.next = self.head\n",
        "            self.head = new_node\n",
        "\n",
        "    def dequeue(self):\n",
        "        temp = self.head\n",
        "        while True:\n",
        "            if temp.next != self.tail:\n",
        "                temp = temp.next\n",
        "            else:\n",
        "                break\n",
        "        val = temp.next.value\n",
        "        del temp.next\n",
        "        temp.next = None\n",
        "        self.tail = temp\n",
        "        return val\n",
        "\n",
        "\n",
        "    def display(self):\n",
        "        temp = self.head\n",
        "        if not self.is_empty():\n",
        "            while temp!=None:\n",
        "                print(temp.value, end=\" \")\n",
        "                temp = temp.next\n",
        "        else:\n",
        "            print(\"Empty stack\")\n",
        "\n",
        "q = Queue()\n",
        "print(q.is_empty())\n",
        "q.enqueue(1)\n",
        "print(q.is_empty())\n",
        "q.enqueue(2)\n",
        "q.enqueue(3)\n",
        "q.enqueue(4)\n",
        "q.enqueue(5)\n",
        "print(\"popped :\", q.dequeue())\n",
        "q.display()"
      ],
      "execution_count": 15,
      "outputs": [
        {
          "output_type": "stream",
          "name": "stdout",
          "text": [
            "True\n",
            "False\n",
            "1 deleted\n",
            "popped : 1\n",
            "5 4 3 2 "
          ]
        }
      ]
    }
  ]
}