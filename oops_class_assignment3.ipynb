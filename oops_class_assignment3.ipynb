{
  "nbformat": 4,
  "nbformat_minor": 0,
  "metadata": {
    "colab": {
      "name": "oops_class_assignment3.ipynb",
      "provenance": []
    },
    "kernelspec": {
      "name": "python3",
      "display_name": "Python 3"
    },
    "language_info": {
      "name": "python"
    }
  },
  "cells": [
    {
      "cell_type": "markdown",
      "metadata": {
        "id": "BX6zUB_RT1Io"
      },
      "source": [
        "**C++ PUBLIC VARIABLES**"
      ]
    },
    {
      "cell_type": "code",
      "metadata": {
        "colab": {
          "base_uri": "https://localhost:8080/"
        },
        "id": "XAEeM4tNTzM1",
        "outputId": "8951f303-c86b-4f4d-efc5-b806200692d9"
      },
      "source": [
        "%%writefile OOP-Encapsulation-Examples.cpp\n",
        "#include <iostream>\n",
        "using namespace std;\n",
        "\n",
        "class Example\n",
        "{\n",
        "    public:\n",
        "      int A = 1;\n",
        "      int getA()\n",
        "      {\n",
        "          return A;\n",
        "      }\n",
        "};\n",
        "\n",
        "int main()\n",
        "{\n",
        "    Example Obj;\n",
        "    cout<<Obj.A<<\" \"<<Obj.getA()<<endl;\n",
        "}"
      ],
      "execution_count": 7,
      "outputs": [
        {
          "output_type": "stream",
          "name": "stdout",
          "text": [
            "Overwriting OOP-Encapsulation-Examples.cpp\n"
          ]
        }
      ]
    },
    {
      "cell_type": "code",
      "metadata": {
        "colab": {
          "base_uri": "https://localhost:8080/"
        },
        "id": "lpFxwee8VdoA",
        "outputId": "4717c42a-799f-4f05-dcb2-3fcba8fc5146"
      },
      "source": [
        "%%shell\n",
        "g++ OOP-Encapsulation-Examples.cpp -o output_1\n",
        "./output_1"
      ],
      "execution_count": 8,
      "outputs": [
        {
          "output_type": "stream",
          "name": "stdout",
          "text": [
            "1 1\n"
          ]
        },
        {
          "output_type": "execute_result",
          "data": {
            "text/plain": [
              ""
            ]
          },
          "metadata": {},
          "execution_count": 8
        }
      ]
    },
    {
      "cell_type": "markdown",
      "metadata": {
        "id": "NmsWS6_lWXcn"
      },
      "source": [
        "**C++ Private variables**"
      ]
    },
    {
      "cell_type": "code",
      "metadata": {
        "colab": {
          "base_uri": "https://localhost:8080/"
        },
        "id": "QiqeZh5fVoDd",
        "outputId": "a75a5419-1caa-45ce-ee11-750964edac2a"
      },
      "source": [
        "%%writefile OOP-Encapsulation-Examples.cpp\n",
        "#include <iostream>\n",
        "using namespace std;\n",
        "\n",
        "class Examples\n",
        "{\n",
        "    private:\n",
        "      int A = 10;\n",
        "    public:\n",
        "      int B = 20;\n",
        "      int getA()\n",
        "      {\n",
        "          cout<<A<<endl;\n",
        "      }\n",
        "};\n",
        "\n",
        "int main()\n",
        "{\n",
        "    Examples Obj;\n",
        "    cout<<Obj.B<<endl;\n",
        "    Obj.getA();\n",
        "}"
      ],
      "execution_count": 9,
      "outputs": [
        {
          "output_type": "stream",
          "name": "stdout",
          "text": [
            "Overwriting OOP-Encapsulation-Examples.cpp\n"
          ]
        }
      ]
    },
    {
      "cell_type": "code",
      "metadata": {
        "colab": {
          "base_uri": "https://localhost:8080/"
        },
        "id": "syN9S0OVXk6C",
        "outputId": "401a1648-ef11-4c12-dc29-abc46c5a5b29"
      },
      "source": [
        "%%shell\n",
        "g++ OOP-Encapsulation-Examples.cpp -o output_2\n",
        "./output_2"
      ],
      "execution_count": 10,
      "outputs": [
        {
          "output_type": "stream",
          "name": "stdout",
          "text": [
            "20\n",
            "10\n"
          ]
        },
        {
          "output_type": "execute_result",
          "data": {
            "text/plain": [
              ""
            ]
          },
          "metadata": {},
          "execution_count": 10
        }
      ]
    },
    {
      "cell_type": "markdown",
      "metadata": {
        "id": "wri0wCQwX81-"
      },
      "source": [
        "**C++ Constructors**"
      ]
    },
    {
      "cell_type": "code",
      "metadata": {
        "colab": {
          "base_uri": "https://localhost:8080/"
        },
        "id": "pPJoxZdjXsj5",
        "outputId": "30c3761e-1259-4910-ad03-fa49d9936424"
      },
      "source": [
        "%%writefile OOP-Encapsulation-Examples.cpp\n",
        "#include <iostream>\n",
        "using namespace std;\n",
        "\n",
        "class Example\n",
        "{\n",
        "    private: \n",
        "      int A;\n",
        "    public:\n",
        "      int B;\n",
        "      int getA()\n",
        "      {\n",
        "          cout<<A<<endl;\n",
        "      }\n",
        "      Example()\n",
        "      {\n",
        "          cout<<\"Enter value of A: \";\n",
        "          cin>>A;\n",
        "          cout<<\"Enter value of B: \";\n",
        "          cin>>B;\n",
        "      }\n",
        "};\n",
        "\n",
        "int main()\n",
        "{\n",
        "    Example Obj;\n",
        "    cout<<Obj.B<<endl;\n",
        "    Obj.getA();\n",
        "}"
      ],
      "execution_count": 11,
      "outputs": [
        {
          "output_type": "stream",
          "name": "stdout",
          "text": [
            "Overwriting OOP-Encapsulation-Examples.cpp\n"
          ]
        }
      ]
    },
    {
      "cell_type": "code",
      "metadata": {
        "colab": {
          "base_uri": "https://localhost:8080/"
        },
        "id": "dXRPVzfsZGRl",
        "outputId": "cc76423f-c630-4276-daa1-6640ee2e5a6b"
      },
      "source": [
        "%%shell\n",
        "g++ OOP-Encapsulation-Examples.cpp -o output_3\n",
        "./output_3"
      ],
      "execution_count": 12,
      "outputs": [
        {
          "output_type": "stream",
          "name": "stdout",
          "text": [
            "Enter value of A: 24\n",
            "Enter value of B: 34\n",
            "34\n",
            "24\n"
          ]
        },
        {
          "output_type": "execute_result",
          "data": {
            "text/plain": [
              ""
            ]
          },
          "metadata": {},
          "execution_count": 12
        }
      ]
    },
    {
      "cell_type": "markdown",
      "metadata": {
        "id": "HuIaZVWSZbvY"
      },
      "source": [
        "**PROGRAM 5 - PYTHON**"
      ]
    },
    {
      "cell_type": "code",
      "metadata": {
        "id": "jOZtkEEdZNqc",
        "colab": {
          "base_uri": "https://localhost:8080/"
        },
        "outputId": "930552ff-d801-48a4-c3cc-72e316338ffc"
      },
      "source": [
        "class Country:\n",
        "  def __init__(self, name):\n",
        "    self.name = name\n",
        "\n",
        "  def say_name(self):\n",
        "    print(f\"Hello, country name is {self.name}\")\n",
        "\n",
        "c1 = Country('UK') \n",
        "c2 = Country('USA')\n",
        "c3 = Country('India')\n",
        "  \n",
        "c1.say_name()  \n",
        "c2.say_name()\n",
        "c3.say_name()"
      ],
      "execution_count": 13,
      "outputs": [
        {
          "output_type": "stream",
          "name": "stdout",
          "text": [
            "Hello, country name is UK\n",
            "Hello, country name is USA\n",
            "Hello, country name is India\n"
          ]
        }
      ]
    },
    {
      "cell_type": "markdown",
      "metadata": {
        "id": "MRsQmzpXZ8oH"
      },
      "source": [
        "**PROGRAM 6 - PYTHON**"
      ]
    },
    {
      "cell_type": "code",
      "metadata": {
        "colab": {
          "base_uri": "https://localhost:8080/"
        },
        "id": "ABOQnFaiZ16L",
        "outputId": "d5c5ff92-a0a2-4c1d-86cf-5a2895293bb6"
      },
      "source": [
        "class Car:\n",
        "  __maxspeed = 0\n",
        "  __name = \"\"\n",
        "\n",
        "  def __init__(self):\n",
        "    self.__maxspeed = 100\n",
        "    self.__name = \"regular car\"\n",
        "\n",
        "  def drive(self):\n",
        "    print('driving. maxspeed ' + str(self.__maxspeed))\n",
        "\n",
        "car = Car()\n",
        "car.drive()\n",
        "mxspeed =10\n",
        "car.__maxspeed = 10        \n",
        "car.drive()"
      ],
      "execution_count": 14,
      "outputs": [
        {
          "output_type": "stream",
          "name": "stdout",
          "text": [
            "driving. maxspeed 100\n",
            "driving. maxspeed 100\n"
          ]
        }
      ]
    },
    {
      "cell_type": "markdown",
      "metadata": {
        "id": "kgflOHHSa9Eq"
      },
      "source": [
        "**PROGRAM 7 - PYTHON**"
      ]
    },
    {
      "cell_type": "code",
      "metadata": {
        "colab": {
          "base_uri": "https://localhost:8080/"
        },
        "id": "KrnHoIbUa4Do",
        "outputId": "02482759-9b39-4f1a-9078-ddfbedeef480"
      },
      "source": [
        "class student:\n",
        "  count=0\n",
        "  def __init__(self,num) :\n",
        "    student.count=student.count+num\n",
        "\n",
        "s1=student(4)\n",
        "s2=student(5)\n",
        "s3=student(6)\n",
        "\n",
        "print(\"number of students in OOP class :\", student.count)\n",
        "print(\"number of students in OOP class:\", s2.count)"
      ],
      "execution_count": 2,
      "outputs": [
        {
          "output_type": "stream",
          "name": "stdout",
          "text": [
            "number of students in OOP class : 15\n",
            "number of students in OOP class: 15\n"
          ]
        }
      ]
    },
    {
      "cell_type": "markdown",
      "metadata": {
        "id": "b32PVouUcnIh"
      },
      "source": [
        "PROGRAM 8 - PYTHON"
      ]
    },
    {
      "cell_type": "code",
      "metadata": {
        "colab": {
          "base_uri": "https://localhost:8080/"
        },
        "id": "MoXhoCNiciVn",
        "outputId": "7e0c2818-132b-4576-9fa5-e9c8e1382c99"
      },
      "source": [
        "class student:\n",
        "  def __init__(self):\n",
        "    print(\"This is non parametrized constructor\")\n",
        "\n",
        "  def shownum(self, num):\n",
        "    print(\"number of students :\", num*num)\n",
        "    return num\n",
        "\n",
        "s1=student()\n",
        "s2=student()\n",
        "s3=student()\n",
        "\n",
        "result1= s1.shownum(5)\n",
        "result2= s2.shownum(6)\n",
        "\n",
        "print(\"number of students in OOP class :\", result1,result2)"
      ],
      "execution_count": 3,
      "outputs": [
        {
          "output_type": "stream",
          "name": "stdout",
          "text": [
            "This is non parametrized constructor\n",
            "This is non parametrized constructor\n",
            "This is non parametrized constructor\n",
            "number of students : 25\n",
            "number of students : 36\n",
            "number of students in OOP class : 5 6\n"
          ]
        }
      ]
    },
    {
      "cell_type": "code",
      "metadata": {
        "colab": {
          "base_uri": "https://localhost:8080/"
        },
        "id": "La-fja6SdCa_",
        "outputId": "b02adb53-d6f6-4b0b-d6cc-61d3c3f16b6b"
      },
      "source": [
        "class student:\n",
        "  def __init__(self,stname,stage) :\n",
        "    self.name = stname\n",
        "    self.age = stage\n",
        "    print(\"This is parametrized constructor\") \n",
        "\n",
        "  def display(self,styear):\n",
        "       print(\"Student :\", self.name, self.age, styear)\n",
        "       if styear <= 2020 :\n",
        "         print (\"Student has completed the course\")\n",
        "       return \n",
        "s1=student(\"Ram\",21)\n",
        "s2=student(\"Krishna\",23)\n",
        "s3=student(\"Kumar\",22)\n",
        "\n",
        "s1.display(2021)\n",
        "s2.display(2019)"
      ],
      "execution_count": 4,
      "outputs": [
        {
          "output_type": "stream",
          "name": "stdout",
          "text": [
            "This is parametrized constructor\n",
            "This is parametrized constructor\n",
            "This is parametrized constructor\n",
            "Student : Ram 21 2021\n",
            "Student : Krishna 23 2019\n",
            "Student has completed the course\n"
          ]
        }
      ]
    }
  ]
}